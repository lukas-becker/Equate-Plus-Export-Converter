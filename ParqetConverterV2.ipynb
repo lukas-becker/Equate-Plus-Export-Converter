{
 "cells": [
  {
   "cell_type": "markdown",
   "id": "e99a298b-fb9d-4e2d-859b-8c48cbf5ab0c",
   "metadata": {},
   "source": [
    "# Parqet Converter V2\n",
    "Just a simple script to convert EquatePlus export to a csv compatible with Parqet"
   ]
  },
  {
   "cell_type": "code",
   "execution_count": null,
   "id": "d2d63204-35b1-457f-986c-1326ec8f465e",
   "metadata": {},
   "outputs": [],
   "source": [
    "monthsBack = 1\n",
    "isin = 'CH0012032048'\n",
    "currency = 'CHF'"
   ]
  },
  {
   "cell_type": "markdown",
   "id": "9cf35381-7647-444c-98b7-ae106d27777f",
   "metadata": {},
   "source": [
    "## Imports:"
   ]
  },
  {
   "cell_type": "code",
   "execution_count": null,
   "id": "7180b990-89a0-42b3-b27f-9b5f4b56ad5a",
   "metadata": {},
   "outputs": [],
   "source": [
    "from datetime import date\n",
    "import openpyxl\n",
    "import pandas as pd\n",
    "import warnings\n",
    "import yaml"
   ]
  },
  {
   "cell_type": "code",
   "execution_count": null,
   "id": "a76ff6db-4da2-4935-904b-1ab253f54d39",
   "metadata": {},
   "outputs": [],
   "source": [
    "pd.set_option('display.max_rows', None)"
   ]
  },
  {
   "cell_type": "code",
   "execution_count": null,
   "id": "b83a5c9d-36f0-4eb5-a26d-8ba76c1a1a63",
   "metadata": {},
   "outputs": [],
   "source": []
  },
  {
   "cell_type": "markdown",
   "id": "12d47220-165f-418f-90e8-a8cb85a912fa",
   "metadata": {},
   "source": [
    "# Load Configuration:"
   ]
  },
  {
   "cell_type": "code",
   "execution_count": null,
   "id": "db520298-e8ea-4d37-8b81-91cdb69edddc",
   "metadata": {},
   "outputs": [],
   "source": [
    "configFile = 'ParqetConverterConfig.yaml'\n",
    "with open('ParqetConverterConfig.yaml') as f:\n",
    "    config = yaml.safe_load(f)\n",
    "\n",
    "loadFilename = config['loadFilename']\n",
    "monthsBack = config['monthsBack']\n",
    "isin = config['isin']\n",
    "currency = config['currency']\n",
    "\n",
    "print(f'Loaded {len(config)} configuration items from {configFile}.')"
   ]
  },
  {
   "cell_type": "markdown",
   "id": "063797ba-07ab-4fe1-bb9d-b0e77800077e",
   "metadata": {},
   "source": [
    "## Open and clean the Excel-Sheet:\n",
    "openpyxl prints some warnings with the default setting which can be ignored"
   ]
  },
  {
   "cell_type": "code",
   "execution_count": null,
   "id": "7c3fda39-a518-4102-9eca-7e0e663457c5",
   "metadata": {},
   "outputs": [],
   "source": [
    "with warnings.catch_warnings():\n",
    "    warnings.simplefilter(\"ignore\")\n",
    "    # eppd = EquatePlusPortfolioDetails\n",
    "    eppd = pd.read_excel(loadFilename, engine=\"openpyxl\")"
   ]
  },
  {
   "cell_type": "markdown",
   "id": "4d537904-6320-467c-8b84-2012f4fe4685",
   "metadata": {},
   "source": [
    "Delete the header rows (top 5)"
   ]
  },
  {
   "cell_type": "code",
   "execution_count": null,
   "id": "0f3cd52b-3d0a-4553-9adc-4dae0cffcc80",
   "metadata": {},
   "outputs": [],
   "source": [
    "eppd = eppd.iloc[4:].reset_index(drop=True)"
   ]
  },
  {
   "cell_type": "markdown",
   "id": "4961a9fd-a82c-4ea9-afbf-016b2f21a50f",
   "metadata": {},
   "source": [
    "Convert the top row to column headers:"
   ]
  },
  {
   "cell_type": "code",
   "execution_count": null,
   "id": "d11b1373-d762-4e97-89b4-519450d89ac2",
   "metadata": {},
   "outputs": [],
   "source": [
    "column_headers = eppd.iloc[0]\n",
    "\n",
    "eppd_cleaned = eppd[1:]\n",
    "eppd_cleaned.columns = column_headers\n",
    "\n",
    "print(f'Loaded PortfoioDetails with {len(eppd)} rows.')"
   ]
  },
  {
   "cell_type": "markdown",
   "id": "f8d53e71-a259-4a3e-9f49-a5c1a33028b6",
   "metadata": {},
   "source": [
    "Remove columns with unnecessary metadata"
   ]
  },
  {
   "cell_type": "code",
   "execution_count": null,
   "id": "bebaf5fb-57f4-4cf8-aaa3-18d927429edd",
   "metadata": {},
   "outputs": [],
   "source": [
    "# remove unnecessary columns\n",
    "remove_columns = ['Plan', \n",
    "                  'Instrumententyp', \n",
    "                  'Instrument', \n",
    "                  'Marktpreis',\n",
    "                  'Ablaufdatum', \n",
    "                  'Ausstehende Menge', \n",
    "                  'Verfügbare Menge', \n",
    "                  'Geschätzter aktueller ausstehender Wert', \n",
    "                  'Geschätzter aktueller verfügbarer Wert']\n",
    "eppd_c_relevant_cols = eppd_cleaned.drop(columns= remove_columns)\n",
    "\n",
    "print(f'Dropped {len(remove_columns)} columns.')"
   ]
  },
  {
   "cell_type": "markdown",
   "id": "8d1adc57-564a-437f-9a62-37ad5f2a871e",
   "metadata": {},
   "source": [
    "Rename Columns"
   ]
  },
  {
   "cell_type": "code",
   "execution_count": null,
   "id": "32feb1b4-9f00-430e-9528-3bbdc5d85066",
   "metadata": {},
   "outputs": [],
   "source": [
    "# rename necessary columns\n",
    "rename_columns = {'Allokationsdatum' : 'date',\n",
    "                  'Beitragsart' : 'type',\n",
    "                  'Ausübungspreis / Einstandspreis' : 'price',\n",
    "                  'Zugewiesene Menge' : 'shares',\n",
    "                  'Verfügbar ab' : 'availability'\n",
    "                  }\n",
    "eppd_c_relevant_cols.rename(columns= rename_columns, inplace=True)\n",
    "\n",
    "print(f'Renamed {len(rename_columns)} columns.')"
   ]
  },
  {
   "cell_type": "markdown",
   "id": "57e45f39-4791-49bb-800d-7e221c3c079e",
   "metadata": {},
   "source": [
    "Rename column values"
   ]
  },
  {
   "cell_type": "code",
   "execution_count": null,
   "id": "5c0e77c0-5727-4a14-bf67-94f3694fd2e1",
   "metadata": {},
   "outputs": [],
   "source": [
    "pd.set_option('future.no_silent_downcasting', True)\n",
    "# rename columns\n",
    "replace_values = [\n",
    "    #(original, new)\n",
    "    ('Kauf', 'Buy'),\n",
    "    ('Unternehmensbeitrag', 'Buy'),\n",
    "]\n",
    "\n",
    "for original, newValue in replace_values:\n",
    "    eppd_c_relevant_cols.replace(original, newValue, inplace= True)\n",
    "\n",
    "print(f'Renamed {len(replace_values)} colum values.')\n",
    "print('Data cleaning complete.')"
   ]
  },
  {
   "cell_type": "markdown",
   "id": "98ddfa38-e327-4366-8ea6-b83d2a7fe7fa",
   "metadata": {},
   "source": [
    "# Identify relevant data\n",
    "Filter for time"
   ]
  },
  {
   "cell_type": "code",
   "execution_count": null,
   "id": "8e87aa85-6ba6-4cce-b46f-d23db287d287",
   "metadata": {},
   "outputs": [],
   "source": [
    "print('Start data processing.')"
   ]
  },
  {
   "cell_type": "code",
   "execution_count": null,
   "id": "8d83cc32-504e-47d5-a3ac-1a04692a3f1a",
   "metadata": {},
   "outputs": [],
   "source": [
    "# filter by monthsBack\n",
    "if(monthsBack > 0):\n",
    "    eppd_c_relevant_cols['tmpDate'] = eppd_c_relevant_cols['date']\n",
    "    eppd_c_relevant_cols['tmpDate'] = pd.to_datetime(eppd_c_relevant_cols['tmpDate'])\n",
    "    today = pd.Timestamp.now()\n",
    "    month = today.floor('d') + pd.offsets.MonthEnd(0) - pd.offsets.MonthBegin(monthsBack)\n",
    "    month\n",
    "    eppd_c_r_cols = eppd_c_relevant_cols[(eppd_c_relevant_cols['tmpDate'] > month)]\n",
    "    eppd_c_rc = eppd_c_r_cols.drop(columns=['tmpDate'])\n",
    "else:\n",
    "    eppd_c_rc = eppd_c_relevant_cols\n",
    "\n",
    "print(f'Continuing with {len(eppd_c_rc)} rows.')"
   ]
  },
  {
   "cell_type": "markdown",
   "id": "87d25ff7-d2b7-428e-abb8-e5bed1a9c1b0",
   "metadata": {},
   "source": [
    "## Identify and handle dividends\n",
    "Dividends are buys which are immedeatly available"
   ]
  },
  {
   "cell_type": "code",
   "execution_count": null,
   "id": "b1805834-1a1a-4c62-a86d-81e3df1ccdb0",
   "metadata": {},
   "outputs": [],
   "source": [
    "dividend_rows = eppd_c_rc[eppd_c_rc['date'] == eppd_c_rc['availability']].copy()\n",
    "dividend_rows['type'] = 'Dividend'\n",
    "eppd_c_rc = pd.concat([eppd_c_rc, dividend_rows])\n",
    "eppd_c_rc = eppd_c_rc.sort_values(by='date')\n",
    "eppd_c_rc = eppd_c_rc.drop(columns=['availability'])\n",
    "\n",
    "print(f'Found {len(dividend_rows)} dividends')"
   ]
  },
  {
   "cell_type": "markdown",
   "id": "d5bd55ba-fcea-4bbe-afb3-31b994e594f0",
   "metadata": {},
   "source": [
    "# Add metadata and order dataframe"
   ]
  },
  {
   "cell_type": "code",
   "execution_count": null,
   "id": "c2cb73c0-de37-4285-bb9e-5def6e81f987",
   "metadata": {},
   "outputs": [],
   "source": [
    "# insert metadata\n",
    "insert_columns = [\n",
    "    #(column, value, loc)\n",
    "    ('fee', 0, 1),\n",
    "    ('isin', isin, 2),\n",
    "    ('tax', 0, 5),\n",
    "    ('currency', currency, 7)]\n",
    "for column, value, loc in insert_columns:\n",
    "    eppd_c_rc.insert(column=column, value=value, loc=loc)\n",
    "\n",
    "print ('Added metadata')"
   ]
  },
  {
   "cell_type": "code",
   "execution_count": null,
   "id": "5857904b-e012-43a7-ad20-d755684afa83",
   "metadata": {},
   "outputs": [],
   "source": [
    "# reorder columns\n",
    "column_order = [\n",
    "    'date',\n",
    "    'fee',\n",
    "    'isin',\n",
    "    'shares',\n",
    "    'price',\n",
    "    'tax',\n",
    "    'type',\n",
    "    'currency'\n",
    "]\n",
    "eppd_c_rc = eppd_c_rc[column_order]\n",
    "\n",
    "print('Reordered columns to: ' + str(column_order))"
   ]
  },
  {
   "cell_type": "markdown",
   "id": "d4d5c395-5573-45cf-9a3e-a4fb8bddebdf",
   "metadata": {},
   "source": [
    "# Export"
   ]
  },
  {
   "cell_type": "code",
   "execution_count": null,
   "id": "fc8c7992-39a6-4a19-9c32-2858eea9852b",
   "metadata": {},
   "outputs": [],
   "source": [
    "eppd_c_rc['date'] = pd.to_datetime(eppd_c_rc['date'])\n",
    "eppd_c_rc"
   ]
  },
  {
   "cell_type": "code",
   "execution_count": null,
   "id": "a381399f-b798-4237-a727-19c5c2f11ee2",
   "metadata": {},
   "outputs": [],
   "source": [
    "# export\n",
    "fileName = 'PortfolioDetails-' + str(date.today()) + '.csv'\n",
    "eppd_c_rc.to_csv(fileName, sep=';')\n",
    "print(f'Export to {fileName} complete.')"
   ]
  }
 ],
 "metadata": {
  "kernelspec": {
   "display_name": "Python 3 (ipykernel)",
   "language": "python",
   "name": "python3"
  },
  "language_info": {
   "codemirror_mode": {
    "name": "ipython",
    "version": 3
   },
   "file_extension": ".py",
   "mimetype": "text/x-python",
   "name": "python",
   "nbconvert_exporter": "python",
   "pygments_lexer": "ipython3",
   "version": "3.12.4"
  }
 },
 "nbformat": 4,
 "nbformat_minor": 5
}
